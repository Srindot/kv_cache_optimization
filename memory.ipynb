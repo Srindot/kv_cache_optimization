{
 "cells": [
  {
   "cell_type": "code",
   "execution_count": 1,
   "id": "7e74458b",
   "metadata": {},
   "outputs": [
    {
     "name": "stderr",
     "output_type": "stream",
     "text": [
      "/home/sriney/miniconda3/envs/hawai/lib/python3.10/site-packages/tqdm/auto.py:21: TqdmWarning: IProgress not found. Please update jupyter and ipywidgets. See https://ipywidgets.readthedocs.io/en/stable/user_install.html\n",
      "  from .autonotebook import tqdm as notebook_tqdm\n"
     ]
    },
    {
     "name": "stdout",
     "output_type": "stream",
     "text": [
      "INFO 10-03 19:42:59 [__init__.py:216] Automatically detected platform cuda.\n",
      "--- 🚀 Running Inference with Optimized Engine (vLLM) ---\n",
      "INFO 10-03 19:43:01 [utils.py:328] non-default args: {'trust_remote_code': True, 'gpu_memory_utilization': 0.6, 'disable_log_stats': True, 'model': 'gpt2'}\n"
     ]
    },
    {
     "name": "stderr",
     "output_type": "stream",
     "text": [
      "The argument `trust_remote_code` is to be used with Auto classes. It has no effect here and is ignored.\n"
     ]
    },
    {
     "name": "stdout",
     "output_type": "stream",
     "text": [
      "INFO 10-03 19:43:11 [__init__.py:742] Resolved architecture: GPT2LMHeadModel\n"
     ]
    },
    {
     "name": "stderr",
     "output_type": "stream",
     "text": [
      "`torch_dtype` is deprecated! Use `dtype` instead!\n"
     ]
    },
    {
     "name": "stdout",
     "output_type": "stream",
     "text": [
      "INFO 10-03 19:43:11 [__init__.py:2764] Downcasting torch.float32 to torch.bfloat16.\n",
      "INFO 10-03 19:43:11 [__init__.py:1815] Using max model len 1024\n"
     ]
    },
    {
     "name": "stderr",
     "output_type": "stream",
     "text": [
      "2025-10-03 19:43:12,032\tINFO util.py:154 -- Missing packages: ['ipywidgets']. Run `pip install -U ipywidgets`, then restart the notebook server for rich notebook output.\n"
     ]
    },
    {
     "name": "stdout",
     "output_type": "stream",
     "text": [
      "INFO 10-03 19:43:12 [scheduler.py:222] Chunked prefill is enabled with max_num_batched_tokens=8192.\n",
      "WARNING 10-03 19:43:12 [cache.py:214] Possibly too large swap space. 4.00 GiB out of the 7.47 GiB total CPU memory is allocated for the swap space.\n",
      "\u001b[1;36m(EngineCore_DP0 pid=11944)\u001b[0;0m INFO 10-03 19:43:18 [core.py:654] Waiting for init message from front-end.\n",
      "\u001b[1;36m(EngineCore_DP0 pid=11944)\u001b[0;0m INFO 10-03 19:43:18 [core.py:76] Initializing a V1 LLM engine (v0.10.2) with config: model='gpt2', speculative_config=None, tokenizer='gpt2', skip_tokenizer_init=False, tokenizer_mode=auto, revision=None, tokenizer_revision=None, trust_remote_code=True, dtype=torch.bfloat16, max_seq_len=1024, download_dir=None, load_format=auto, tensor_parallel_size=1, pipeline_parallel_size=1, data_parallel_size=1, disable_custom_all_reduce=False, quantization=None, enforce_eager=False, kv_cache_dtype=auto, device_config=cuda, decoding_config=DecodingConfig(backend='auto', disable_fallback=False, disable_any_whitespace=False, disable_additional_properties=False, reasoning_backend=''), observability_config=ObservabilityConfig(show_hidden_metrics_for_version=None, otlp_traces_endpoint=None, collect_detailed_traces=None), seed=0, served_model_name=gpt2, enable_prefix_caching=True, chunked_prefill_enabled=True, use_async_output_proc=True, pooler_config=None, compilation_config={\"level\":3,\"debug_dump_path\":\"\",\"cache_dir\":\"\",\"backend\":\"\",\"custom_ops\":[],\"splitting_ops\":[\"vllm.unified_attention\",\"vllm.unified_attention_with_output\",\"vllm.mamba_mixer2\",\"vllm.mamba_mixer\",\"vllm.short_conv\",\"vllm.linear_attention\",\"vllm.plamo2_mamba_mixer\",\"vllm.gdn_attention\"],\"use_inductor\":true,\"compile_sizes\":[],\"inductor_compile_config\":{\"enable_auto_functionalized_v2\":false},\"inductor_passes\":{},\"cudagraph_mode\":1,\"use_cudagraph\":true,\"cudagraph_num_of_warmups\":1,\"cudagraph_capture_sizes\":[512,504,496,488,480,472,464,456,448,440,432,424,416,408,400,392,384,376,368,360,352,344,336,328,320,312,304,296,288,280,272,264,256,248,240,232,224,216,208,200,192,184,176,168,160,152,144,136,128,120,112,104,96,88,80,72,64,56,48,40,32,24,16,8,4,2,1],\"cudagraph_copy_inputs\":false,\"full_cuda_graph\":false,\"pass_config\":{},\"max_capture_size\":512,\"local_cache_dir\":null}\n",
      "\u001b[1;36m(EngineCore_DP0 pid=11944)\u001b[0;0m WARNING 10-03 19:43:20 [interface.py:391] Using 'pin_memory=False' as WSL is detected. This may slow down the performance.\n",
      "\u001b[1;36m(EngineCore_DP0 pid=11944)\u001b[0;0m INFO 10-03 19:43:21 [parallel_state.py:1165] rank 0 in world size 1 is assigned as DP rank 0, PP rank 0, TP rank 0, EP rank 0\n",
      "\u001b[1;36m(EngineCore_DP0 pid=11944)\u001b[0;0m WARNING 10-03 19:43:21 [topk_topp_sampler.py:69] FlashInfer is not available. Falling back to the PyTorch-native implementation of top-p & top-k sampling. For the best performance, please install FlashInfer.\n",
      "\u001b[1;36m(EngineCore_DP0 pid=11944)\u001b[0;0m INFO 10-03 19:43:21 [gpu_model_runner.py:2338] Starting to load model gpt2...\n"
     ]
    },
    {
     "name": "stderr",
     "output_type": "stream",
     "text": [
      "[W1003 19:43:21.817834064 ProcessGroupNCCL.cpp:981] Warning: TORCH_NCCL_AVOID_RECORD_STREAMS is the default now, this environment variable is thus deprecated. (function operator())\n"
     ]
    },
    {
     "name": "stdout",
     "output_type": "stream",
     "text": [
      "[Gloo] Rank 0 is connected to 0 peer ranks. Expected number of connected peer ranks is : 0\n",
      "[Gloo] Rank 0 is connected to 0 peer ranks. Expected number of connected peer ranks is : 0\n",
      "[Gloo] Rank 0 is connected to 0 peer ranks. Expected number of connected peer ranks is : 0\n",
      "[Gloo] Rank 0 is connected to 0 peer ranks. Expected number of connected peer ranks is : 0\n",
      "[Gloo] Rank 0 is connected to 0 peer ranks. Expected number of connected peer ranks is : 0\n",
      "[Gloo] Rank 0 is connected to 0 peer ranks. Expected number of connected peer ranks is : 0\n",
      "\u001b[1;36m(EngineCore_DP0 pid=11944)\u001b[0;0m INFO 10-03 19:43:22 [gpu_model_runner.py:2370] Loading model from scratch...\n",
      "\u001b[1;36m(EngineCore_DP0 pid=11944)\u001b[0;0m INFO 10-03 19:43:22 [cuda.py:362] Using Flash Attention backend on V1 engine.\n",
      "\u001b[1;36m(EngineCore_DP0 pid=11944)\u001b[0;0m INFO 10-03 19:43:23 [weight_utils.py:348] Using model weights format ['*.safetensors']\n",
      "\u001b[1;36m(EngineCore_DP0 pid=11944)\u001b[0;0m INFO 10-03 19:43:27 [weight_utils.py:369] Time spent downloading weights for gpt2: 3.901990 seconds\n",
      "\u001b[1;36m(EngineCore_DP0 pid=11944)\u001b[0;0m INFO 10-03 19:43:28 [weight_utils.py:406] No model.safetensors.index.json found in remote.\n"
     ]
    },
    {
     "name": "stderr",
     "output_type": "stream",
     "text": [
      "Loading safetensors checkpoint shards:   0% Completed | 0/1 [00:00<?, ?it/s]\n",
      "Loading safetensors checkpoint shards: 100% Completed | 1/1 [00:00<00:00,  3.13it/s]\n",
      "Loading safetensors checkpoint shards: 100% Completed | 1/1 [00:00<00:00,  3.10it/s]\n",
      "\u001b[1;36m(EngineCore_DP0 pid=11944)\u001b[0;0m \n"
     ]
    },
    {
     "name": "stdout",
     "output_type": "stream",
     "text": [
      "\u001b[1;36m(EngineCore_DP0 pid=11944)\u001b[0;0m INFO 10-03 19:43:28 [default_loader.py:268] Loading weights took 0.37 seconds\n",
      "\u001b[1;36m(EngineCore_DP0 pid=11944)\u001b[0;0m INFO 10-03 19:43:28 [gpu_model_runner.py:2392] Model loading took 0.2378 GiB and 6.381153 seconds\n",
      "\u001b[1;36m(EngineCore_DP0 pid=11944)\u001b[0;0m INFO 10-03 19:43:32 [backends.py:539] Using cache directory: /home/sriney/.cache/vllm/torch_compile_cache/a5f104f732/rank_0_0/backbone for vLLM's torch.compile\n",
      "\u001b[1;36m(EngineCore_DP0 pid=11944)\u001b[0;0m INFO 10-03 19:43:32 [backends.py:550] Dynamo bytecode transform time: 3.21 s\n",
      "\u001b[1;36m(EngineCore_DP0 pid=11944)\u001b[0;0m INFO 10-03 19:43:34 [backends.py:194] Cache the graph for dynamic shape for later use\n"
     ]
    },
    {
     "name": "stderr",
     "output_type": "stream",
     "text": [
      "\u001b[1;36m(EngineCore_DP0 pid=11944)\u001b[0;0m [rank0]:W1003 19:43:35.278000 11944 site-packages/torch/_inductor/utils.py:1436] [0/0] Not enough SMs to use max_autotune_gemm mode\n"
     ]
    },
    {
     "name": "stdout",
     "output_type": "stream",
     "text": [
      "\u001b[1;36m(EngineCore_DP0 pid=11944)\u001b[0;0m INFO 10-03 19:43:42 [backends.py:215] Compiling a graph for dynamic shape takes 9.58 s\n",
      "\u001b[1;36m(EngineCore_DP0 pid=11944)\u001b[0;0m INFO 10-03 19:43:43 [monitor.py:34] torch.compile takes 12.79 s in total\n",
      "\u001b[1;36m(EngineCore_DP0 pid=11944)\u001b[0;0m INFO 10-03 19:43:44 [gpu_worker.py:298] Available KV cache memory: 1.67 GiB\n",
      "\u001b[1;36m(EngineCore_DP0 pid=11944)\u001b[0;0m INFO 10-03 19:43:44 [kv_cache_utils.py:864] GPU KV cache size: 48,576 tokens\n",
      "\u001b[1;36m(EngineCore_DP0 pid=11944)\u001b[0;0m INFO 10-03 19:43:44 [kv_cache_utils.py:868] Maximum concurrency for 1,024 tokens per request: 47.44x\n"
     ]
    },
    {
     "name": "stderr",
     "output_type": "stream",
     "text": [
      "Capturing CUDA graphs (mixed prefill-decode, PIECEWISE): 100%|██████████| 67/67 [00:02<00:00, 28.53it/s]\n"
     ]
    },
    {
     "name": "stdout",
     "output_type": "stream",
     "text": [
      "\u001b[1;36m(EngineCore_DP0 pid=11944)\u001b[0;0m INFO 10-03 19:43:47 [gpu_model_runner.py:3118] Graph capturing finished in 3 secs, took -0.27 GiB\n",
      "\u001b[1;36m(EngineCore_DP0 pid=11944)\u001b[0;0m INFO 10-03 19:43:47 [gpu_worker.py:391] Free memory on device (3.2/4.0 GiB) on startup. Desired GPU memory utilization is (0.6, 2.4 GiB). Actual usage is 0.24 GiB for weight, 0.48 GiB for peak activation, 0.02 GiB for non-torch memory, and -0.27 GiB for CUDAGraph memory. Replace gpu_memory_utilization config with `--kv-cache-memory=1918737612` to fit into requested memory, or `--kv-cache-memory=2776892212` to fully utilize gpu memory. Current kv cache memory in use is 1790983372 bytes.\n",
      "\u001b[1;36m(EngineCore_DP0 pid=11944)\u001b[0;0m INFO 10-03 19:43:47 [core.py:218] init engine (profile, create kv cache, warmup model) took 18.91 seconds\n",
      "\u001b[1;36m(EngineCore_DP0 pid=11944)\u001b[0;0m WARNING 10-03 19:43:48 [cache.py:214] Possibly too large swap space. 4.00 GiB out of the 7.47 GiB total CPU memory is allocated for the swap space.\n",
      "INFO 10-03 19:43:49 [llm.py:295] Supported_tasks: ['generate']\n",
      "INFO 10-03 19:43:49 [__init__.py:36] No IOProcessor plugins requested by the model\n"
     ]
    },
    {
     "name": "stderr",
     "output_type": "stream",
     "text": [
      "Adding requests: 100%|██████████| 5/5 [00:00<00:00, 416.80it/s]\n",
      "Processed prompts: 100%|██████████| 5/5 [00:01<00:00,  4.95it/s, est. speed input: 68.42 toks/s, output: 634.59 toks/s]\n"
     ]
    },
    {
     "name": "stdout",
     "output_type": "stream",
     "text": [
      "Total time taken: 1.03 seconds\n",
      "Total tokens generated: 640\n",
      "Throughput: 621.22 tokens/second\n",
      "--------------------------------------------------\n",
      "--- 🐌 Running Inference with Non-Optimized Engine (Transformers) ---\n"
     ]
    },
    {
     "name": "stderr",
     "output_type": "stream",
     "text": [
      "Setting `pad_token_id` to `eos_token_id`:50256 for open-end generation.\n",
      "A decoder-only architecture is being used, but right-padding was detected! For correct generation results, please set `padding_side='left'` when initializing the tokenizer.\n"
     ]
    },
    {
     "name": "stdout",
     "output_type": "stream",
     "text": [
      "Total time taken: 4.19 seconds\n",
      "Total tokens generated: 640\n",
      "Throughput: 152.90 tokens/second\n",
      "--------------------------------------------------\n",
      "\n",
      "📊 Graph saved as 'performance_comparison.png'\n"
     ]
    },
    {
     "data": {
      "image/png": "[encoded data removed]",
      "text/plain": [
       "<Figure size 1000x600 with 1 Axes>"
      ]
     },
     "metadata": {},
     "output_type": "display_data"
    }
   ],
   "source": [
    "import torch\n",
    "import time\n",
    "import gc\n",
    "import matplotlib.pyplot as plt\n",
    "import numpy as np\n",
    "from vllm import LLM, SamplingParams\n",
    "from transformers import AutoModelForCausalLM, AutoTokenizer\n",
    "\n",
    "# --- CONFIGURATION ---\n",
    "# Use a small model to ensure it runs on GPUs with limited VRAM\n",
    "MODEL_NAME = \"gpt2\"\n",
    "DEVICE = \"cuda\" if torch.cuda.is_available() else \"cpu\"\n",
    "GENERATION_LENGTH = 128\n",
    "\n",
    "# --- PROMPTS ---\n",
    "# A batch of prompts with VARYING lengths is crucial to show the difference\n",
    "PROMPTS = [\n",
    "    \"The weather today is\",\n",
    "    \"In a shocking turn of events, scientists have discovered a new species of deep-sea fish that glows in the dark. This discovery\",\n",
    "    \"To make the perfect cup of coffee, you must first\",\n",
    "    \"The history of the Roman Empire is a complex tapestry woven with threads of conquest, innovation, and betrayal. It began\",\n",
    "    \"Hello!\",\n",
    "]\n",
    "\n",
    "# --- 1. Optimized Engine: vLLM ---\n",
    "def run_optimized_inference():\n",
    "    print(\"--- 🚀 Running Inference with Optimized Engine (vLLM) ---\")\n",
    "    if DEVICE == \"cpu\":\n",
    "        print(\"vLLM requires a GPU. Skipping this test.\")\n",
    "        return 0\n",
    "\n",
    "    llm = LLM(\n",
    "        model=MODEL_NAME,\n",
    "        trust_remote_code=True,\n",
    "        # A safeguard for GPUs with low VRAM\n",
    "        gpu_memory_utilization=0.6\n",
    "    )\n",
    "    sampling_params = SamplingParams(temperature=0.7, max_tokens=GENERATION_LENGTH)\n",
    "\n",
    "    start_time = time.perf_counter()\n",
    "    outputs = llm.generate(PROMPTS, sampling_params)\n",
    "    end_time = time.perf_counter()\n",
    "\n",
    "    total_time = end_time - start_time\n",
    "    total_tokens_generated = sum(len(output.outputs[0].token_ids) for output in outputs)\n",
    "    throughput = total_tokens_generated / total_time\n",
    "\n",
    "    print(f\"Total time taken: {total_time:.2f} seconds\")\n",
    "    print(f\"Total tokens generated: {total_tokens_generated}\")\n",
    "    print(f\"Throughput: {throughput:.2f} tokens/second\")\n",
    "    print(\"-\" * 50)\n",
    "\n",
    "    del llm\n",
    "    gc.collect()\n",
    "    torch.cuda.empty_cache()\n",
    "    return throughput\n",
    "\n",
    "# --- 2. Non-Optimized Engine: Transformers ---\n",
    "def run_non_optimized_inference():\n",
    "    print(\"--- 🐌 Running Inference with Non-Optimized Engine (Transformers) ---\")\n",
    "\n",
    "    tokenizer = AutoTokenizer.from_pretrained(MODEL_NAME)\n",
    "    model = AutoModelForCausalLM.from_pretrained(MODEL_NAME).to(DEVICE)\n",
    "    if tokenizer.pad_token is None:\n",
    "        tokenizer.pad_token = tokenizer.eos_token\n",
    "\n",
    "    # The non-optimized part: padding all sentences to the same length\n",
    "    inputs = tokenizer(PROMPTS, return_tensors=\"pt\", padding=True).to(DEVICE)\n",
    "\n",
    "    start_time = time.perf_counter()\n",
    "    generated_outputs = model.generate(\n",
    "        inputs.input_ids,\n",
    "        max_new_tokens=GENERATION_LENGTH,\n",
    "        attention_mask=inputs.attention_mask\n",
    "    )\n",
    "    end_time = time.perf_counter()\n",
    "\n",
    "    total_time = end_time - start_time\n",
    "    # Calculate actual tokens generated, ignoring padding\n",
    "    num_input_tokens = inputs.input_ids.shape[1]\n",
    "    total_tokens_generated = sum(len(output) for output in generated_outputs) - (len(PROMPTS) * num_input_tokens)\n",
    "    throughput = total_tokens_generated / total_time\n",
    "\n",
    "    print(f\"Total time taken: {total_time:.2f} seconds\")\n",
    "    print(f\"Total tokens generated: {total_tokens_generated}\")\n",
    "    print(f\"Throughput: {throughput:.2f} tokens/second\")\n",
    "    print(\"-\" * 50)\n",
    "\n",
    "    del model, tokenizer\n",
    "    gc.collect()\n",
    "    torch.cuda.empty_cache()\n",
    "    return throughput\n",
    "\n",
    "# --- 3. Plotting ---\n",
    "def plot_results(optimized_throughput, non_optimized_throughput):\n",
    "    labels = ['Non-Optimized (Transformers)', 'Optimized (vLLM)']\n",
    "    throughputs = [non_optimized_throughput, optimized_throughput]\n",
    "\n",
    "    plt.figure(figsize=(10, 6))\n",
    "    bars = plt.bar(labels, throughputs, color=['#d9534f', '#5cb85c'])\n",
    "    plt.ylabel('Throughput (Tokens per Second)')\n",
    "    plt.title('Inference Performance Comparison')\n",
    "    plt.ylim(0, max(throughputs) * 1.2) # Add some space at the top\n",
    "\n",
    "    # Add text labels on top of each bar\n",
    "    for bar in bars:\n",
    "        yval = bar.get_height()\n",
    "        plt.text(bar.get_x() + bar.get_width()/2.0, yval, f'{yval:.2f}', va='bottom', ha='center')\n",
    "\n",
    "    # Calculate and display the speedup\n",
    "    if non_optimized_throughput > 0:\n",
    "        speedup = optimized_throughput / non_optimized_throughput\n",
    "        plt.text(0.95, 0.90, f'Speedup: {speedup:.2f}x',\n",
    "                 transform=plt.gca().transAxes,\n",
    "                 fontsize=14,\n",
    "                 verticalalignment='top',\n",
    "                 horizontalalignment='right',\n",
    "                 bbox=dict(boxstyle='round,pad=0.5', fc='yellow', alpha=0.5))\n",
    "\n",
    "    plt.tight_layout()\n",
    "    plt.savefig(\"performance_comparison.png\")\n",
    "    print(\"\\n📊 Graph saved as 'performance_comparison.png'\")\n",
    "    plt.show()\n",
    "\n",
    "# --- MAIN EXECUTION ---\n",
    "if __name__ == \"__main__\":\n",
    "    if DEVICE == \"cpu\":\n",
    "        print(\"⚠️ Running on CPU. Performance difference will be less pronounced.\")\n",
    "        \n",
    "    optimized_perf = run_optimized_inference()\n",
    "    non_optimized_perf = run_non_optimized_inference()\n",
    "\n",
    "    if optimized_perf > 0 and non_optimized_perf > 0:\n",
    "        plot_results(optimized_perf, non_optimized_perf)\n",
    "    else:\n",
    "        print(\"\\nCould not run both tests to generate a comparison graph.\")"
   ]
  }
 ],
 "metadata": {
  "kernelspec": {
   "display_name": "hawai",
   "language": "python",
   "name": "python3"
  },
  "language_info": {
   "codemirror_mode": {
    "name": "ipython",
    "version": 3
   },
   "file_extension": ".py",
   "mimetype": "text/x-python",
   "name": "python",
   "nbconvert_exporter": "python",
   "pygments_lexer": "ipython3",
   "version": "3.10.18"
  }
 },
 "nbformat": 4,
 "nbformat_minor": 5
}
